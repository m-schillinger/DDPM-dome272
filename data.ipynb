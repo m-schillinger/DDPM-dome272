{
 "cells": [
  {
   "cell_type": "markdown",
   "id": "798bac84",
   "metadata": {},
   "source": [
    "# Accessing Data"
   ]
  },
  {
   "cell_type": "markdown",
   "id": "28a33500",
   "metadata": {},
   "source": [
    "The following code was used to generate the input data for the diffusion model. It was adjusted from https://github.com/RupaKurinchiVendhan/WiSoSuper. \n",
    "\n",
    "More information for accessing data from the WIND Toolkit and NSRDB can be found at the following resources:\n",
    "1. WIND Toolkit: https://www.nrel.gov/grid/wind-toolkit.html\n",
    "2. NSRDB: https://nsrdb.nrel.gov/\n",
    "3. Stand up your own HSDS server: https://github.com/HDFGroup/hsds\n",
    "4. Use the HDF groups Kita Lab (a managed HSDS service on AWS, for higher rate limits on free trial basis): https://www.hdfgroup.org/solutions/hdf-kita/\n",
    "5. HSDS Wind Examples: https://github.com/NREL/hsds-examples/blob/master/notebooks/01_WTK_introduction.ipynb\n",
    "6. HSDS Solar Examples: https://github.com/NREL/hsds-examples/blob/master/notebooks/03_NSRDB_introduction.ipynb"
   ]
  },
  {
   "cell_type": "markdown",
   "id": "8e8ee9a9",
   "metadata": {},
   "source": [
    "## Wind Data"
   ]
  },
  {
   "cell_type": "markdown",
   "id": "372b73df",
   "metadata": {},
   "source": [
    "Wind velocity data is comprised of northerly and easterly wind components, denoted $v$ and $u$ respectively, calculated from 100-m height wind speed and direction. The WIND Toolkit has a spatial resolution of approximately 2-km $\\times$ 2-km. The training data was sampled at a 4-hourly temporal resolution, starting January 1, 2007 at 12 am."
   ]
  },
  {
   "cell_type": "code",
   "execution_count": 2,
   "id": "17e6d654",
   "metadata": {},
   "outputs": [],
   "source": [
    "%matplotlib inline\n",
    "import h5pyd\n",
    "import numpy as np\n",
    "import matplotlib.pyplot as plt\n",
    "import matplotlib.image as mpimg\n",
    "import random\n",
    "import os"
   ]
  },
  {
   "cell_type": "code",
   "execution_count": 3,
   "id": "6b71e195",
   "metadata": {},
   "outputs": [],
   "source": [
    "os.environ[\"HS_ENDPOINT\"] = \"https://developer.nrel.gov/api/hsds\"\n",
    "os.environ[\"HS_USERNAME\"] = \"None\" \n",
    "os.environ[\"HS_PASSWORD\"] = \"None\"\n",
    "os.environ[\"HS_API_KEY\"] =  \"8ALikbk9fUHqWvrq5vcc9VRFy0wXLd5Sl4X5vwjY\""
   ]
  },
  {
   "cell_type": "code",
   "execution_count": 5,
   "id": "78adfdcd",
   "metadata": {},
   "outputs": [],
   "source": [
    "f = h5pyd.File(\"/nrel/wtk-us.h5\", 'r', bucket=\"nrel-pds-hsds\")"
   ]
  },
  {
   "cell_type": "code",
   "execution_count": 1,
   "id": "f73bfbec",
   "metadata": {},
   "outputs": [],
   "source": [
    "wind_timesteps = range(0, 61368, 4) # sample data in four hour intervals"
   ]
  },
  {
   "cell_type": "code",
   "execution_count": 6,
   "id": "63ed9c93",
   "metadata": {},
   "outputs": [],
   "source": [
    "dset_speed = f['windspeed_100m']\n",
    "dset_dir = f['winddirection_100m']"
   ]
  },
  {
   "cell_type": "code",
   "execution_count": 7,
   "id": "8e7e80cb",
   "metadata": {},
   "outputs": [],
   "source": [
    "hr_img_size = 64\n",
    "lr_img_size = 16"
   ]
  },
  {
   "cell_type": "markdown",
   "id": "5c7a6841",
   "metadata": {},
   "source": [
    "## Code to extract only middle patch\n",
    "\n",
    "### Sizes\n",
    "Note that the entire windfield would have size 1600x1600. For each timestep, we extract the middle patch which is of size 64x64. The low-res images are obtained by downsampling the 64x64 images and are of size 16x16.\n",
    "\n",
    "### Note on timesteps\n",
    "For each timestep, there are two components for wind speed in westward (ua) and southward (va) wind direction. Overall, there would be over 15k timesteps, leading to over 30k images. However, as the data download was very slow and already took many hours, we only downloaded the first roughly 12k images."
   ]
  },
  {
   "cell_type": "code",
   "execution_count": null,
   "id": "c9e16b21",
   "metadata": {},
   "outputs": [],
   "source": [
    "# iterate over timesteps\n",
    "for timestep in wind_timesteps:\n",
    "    speed_HR = dset_speed[timestep,::,::]\n",
    "    direction_HR = dset_dir[timestep,::,::]\n",
    "    speed_HR = speed_HR[:1600,500:2100]\n",
    "    direction_HR = direction_HR[:1600,500:2100]\n",
    "    ua_HR = np.multiply(speed_HR, np.cos(np.radians(direction_HR+np.pi/2)))\n",
    "    va_HR = np.multiply(speed_HR, np.sin(np.radians(direction_HR+np.pi/2)))\n",
    "    \n",
    "    h_HR = hr_img_size\n",
    "    w_HR = hr_img_size\n",
    "    h_LR = lr_img_size\n",
    "    w_LR = lr_img_size\n",
    "    \n",
    "    # downsample to LR image - take every 4th pixel\n",
    "    ua_LR = ua_HR[::4, ::4]\n",
    "    va_LR = va_HR[::4, ::4]\n",
    "    \n",
    "    n_patches = 1\n",
    "    \n",
    "    ua_wind_data_HR = np.zeros(shape=(n_patches, h_HR, w_HR))\n",
    "    ua_wind_data_LR = np.zeros(shape=(n_patches, h_LR, w_LR))\n",
    "    va_wind_data_HR = np.zeros(shape=(n_patches, h_HR, w_HR))\n",
    "    va_wind_data_LR = np.zeros(shape=(n_patches, h_LR, w_LR))\n",
    "    wind_data = np.zeros((n_patches, h_HR, h_HR, 2))\n",
    "    \n",
    "    # take middle patch\n",
    "    idx = 0\n",
    "    row = 12\n",
    "    col = 12\n",
    "    ua_wind_data_HR[idx] = ua_HR[(col*h_HR):(h_HR+col*h_HR), (row*w_HR):(w_HR+row*w_HR)]\n",
    "    ua_wind_data_LR[idx] = ua_LR[(col*h_LR):(h_LR+col*h_LR), (row*w_LR):(w_LR+row*w_LR)]\n",
    "    va_wind_data_HR[idx] = va_HR[(col*h_HR):(h_HR+col*h_HR), (row*w_HR):(w_HR+row*w_HR)]\n",
    "    va_wind_data_LR[idx] = va_LR[(col*h_LR):(h_LR+col*h_LR), (row*w_LR):(w_LR+row*w_LR)]\n",
    "    wind_data[idx] = np.dstack([ua_wind_data_HR[idx],va_wind_data_HR[idx]])\n",
    "\n",
    "    ua_filename = \"ua_{timestep}.png\".format(timestep=timestep, idx=idx)\n",
    "    va_filename = \"va_{timestep}.png\".format(timestep=timestep, idx=idx)\n",
    "\n",
    "    plt.imsave(\"train/wind/middle_patch/LR/\"+ua_filename, ua_wind_data_LR[idx], origin='lower', format=\"png\")\n",
    "    plt.imsave(\"train/wind/middle_patch/HR/\"+ua_filename, ua_wind_data_HR[idx], origin='lower', format=\"png\")\n",
    "    plt.imsave(\"train/wind/middle_patch/LR/\"+va_filename, va_wind_data_LR[idx], origin='lower', format=\"png\")\n",
    "    plt.imsave(\"train/wind/middle_patch/HR/\"+va_filename, va_wind_data_HR[idx], origin='lower', format=\"png\")"
   ]
  },
  {
   "cell_type": "markdown",
   "id": "93e24829",
   "metadata": {},
   "source": [
    "Wind data file names are structure to have the format of `{component}_{timestep}_{index}.png`."
   ]
  }
 ],
 "metadata": {
  "interpreter": {
   "hash": "0d6e87419faf0c4d576628b629beb80feca08f3f6f53562b53100002f0541799"
  },
  "kernelspec": {
   "display_name": "Python 3 (ipykernel)",
   "language": "python",
   "name": "python3"
  },
  "language_info": {
   "codemirror_mode": {
    "name": "ipython",
    "version": 3
   },
   "file_extension": ".py",
   "mimetype": "text/x-python",
   "name": "python",
   "nbconvert_exporter": "python",
   "pygments_lexer": "ipython3",
   "version": "3.10.9"
  }
 },
 "nbformat": 4,
 "nbformat_minor": 5
}
